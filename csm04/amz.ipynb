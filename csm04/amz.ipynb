{
 "cells": [
  {
   "cell_type": "code",
   "execution_count": 44,
   "metadata": {},
   "outputs": [],
   "source": [
    "# Import packages\n",
    "import requests\n",
    "import pandas as pd\n",
    "from bs4 import BeautifulSoup\n",
    "from datetime import datetime\n",
    "#from transformers import AutoTokenizer, AutoModelForSequenceClassification\n",
    "\n"
   ]
  },
  {
   "cell_type": "code",
   "execution_count": 45,
   "metadata": {},
   "outputs": [],
   "source": [
    "headers = {\n",
    "    'authority': 'www.amazon.com',\n",
    "    'accept': 'text/html,application/xhtml+xml,application/xml;q=0.9,image/avif,image/webp,image/apng,*/*;q=0.8,application/signed-exchange;v=b3;q=0.9',\n",
    "    'accept-language': 'en-US,en;q=0.9,bn;q=0.8',\n",
    "    'sec-ch-ua': '\" Not A;Brand\";v=\"99\", \"Chromium\";v=\"102\", \"Google Chrome\";v=\"102\"',\n",
    "    'user-agent': 'Mozilla/5.0 (Windows NT 10.0; Win64; x64) AppleWebKit/537.36 (KHTML, like Gecko) Chrome/102.0.0.0 Safari/537.36'\n",
    "}"
   ]
  },
  {
   "cell_type": "code",
   "execution_count": 46,
   "metadata": {},
   "outputs": [],
   "source": [
    "url=input()"
   ]
  },
  {
   "cell_type": "code",
   "execution_count": 47,
   "metadata": {},
   "outputs": [],
   "source": [
    "main_url=url"
   ]
  },
  {
   "cell_type": "code",
   "execution_count": 48,
   "metadata": {},
   "outputs": [
    {
     "name": "stdout",
     "output_type": "stream",
     "text": [
      "Steelbird-SBH-34-Jai-Shree-Ram\n",
      "https://www.amazon.in/Steelbird-SBH-34-Jai-Shree-Ram/product-reviews/B0CTK1R6L7/\n"
     ]
    }
   ],
   "source": [
    "\n",
    "# Replace \"dp\" with \"product-reviews\"\n",
    "url = url.replace(\"/dp/\", \"/product-reviews/\")\n",
    "\n",
    "# Remove all characters after the 3rd \"/\"\n",
    "url_parts = url.split(\"/\")\n",
    "Title = url_parts[3]\n",
    "print(Title)\n",
    "url_parts = url_parts[:6]\n",
    "\n",
    "modified_url = \"/\".join(url_parts)\n",
    "reviews_url=modified_url+'/'\n",
    "print(reviews_url)"
   ]
  },
  {
   "cell_type": "code",
   "execution_count": 49,
   "metadata": {},
   "outputs": [],
   "source": [
    "path = \"p_name.txt\"\n",
    "with open(path, 'w') as file:\n",
    "    file.write(\"\")\n",
    "    Title=Title.replace(\" \",\"+\")\n",
    "    file.write(Title)"
   ]
  },
  {
   "cell_type": "code",
   "execution_count": 50,
   "metadata": {},
   "outputs": [],
   "source": [
    "# Define Page No\n",
    "len_page = 2"
   ]
  },
  {
   "cell_type": "code",
   "execution_count": 51,
   "metadata": {},
   "outputs": [],
   "source": [
    "import urllib"
   ]
  },
  {
   "cell_type": "code",
   "execution_count": null,
   "metadata": {},
   "outputs": [],
   "source": []
  },
  {
   "cell_type": "code",
   "execution_count": null,
   "metadata": {},
   "outputs": [],
   "source": []
  },
  {
   "cell_type": "code",
   "execution_count": null,
   "metadata": {},
   "outputs": [],
   "source": []
  },
  {
   "cell_type": "code",
   "execution_count": null,
   "metadata": {},
   "outputs": [],
   "source": []
  },
  {
   "cell_type": "code",
   "execution_count": 52,
   "metadata": {},
   "outputs": [],
   "source": [
    "# Extra Data as Html object from amazon Review page\n",
    "def reviewsHtml(url, len_page):\n",
    "    \n",
    "    # Empty List define to store all pages html data\n",
    "    soups = []\n",
    "    \n",
    "    # Loop for gather all 3000 reviews from 300 pages via range\n",
    "    for page_no in range(1, len_page + 1):\n",
    "        print(page_no)\n",
    "        \n",
    "        # parameter set as page no to the requests body\n",
    "        params = {\n",
    "            'ie': 'UTF8',\n",
    "            'reviewerType': 'all_reviews',\n",
    "            'filterByStar': 'critical',\n",
    "            'pageNumber': page_no,\n",
    "        }\n",
    "        \n",
    "        # Request make for each page\n",
    "        response = requests.get(url, headers=headers)\n",
    "        \n",
    "        # Save Html object by using BeautifulSoup4 and lxml parser\n",
    "        soup = BeautifulSoup(response.text, 'html.parser')\n",
    "        sou=soup\n",
    "        print(soup)\n",
    "        # Add single Html page data in master soups list\n",
    "        soups.append(soup)\n",
    "        \n",
    "    return soups"
   ]
  },
  {
   "cell_type": "code",
   "execution_count": 53,
   "metadata": {},
   "outputs": [],
   "source": [
    "# Grab Reviews name, description, date, stars, title from HTML \n",
    "def getReviews(html_data):\n",
    "\n",
    "    # Create Empty list to Hold all data\n",
    "    data_dicts = []\n",
    "    \n",
    "    # Select all Reviews BOX html using css selector\n",
    "    boxes = html_data.select('div[data-hook=\"review\"]')\n",
    "    \n",
    "    # Iterate all Reviews BOX \n",
    "    for box in boxes:\n",
    "        # Select Name using css selector and cleaning text using strip()\n",
    "        # If Value is empty define value with 'N/A' for all.\n",
    "\n",
    "        try:\n",
    "            stars = box.select_one('[data-hook=\"review-star-rating\"]').text.strip().split(' out')[0]\n",
    "        except Exception as e:\n",
    "            stars = 'N/A'   \n",
    "\n",
    "        try:\n",
    "            title = box.select_one('[data-hook=\"review-title\"]').text.strip()\n",
    "        except Exception as e:\n",
    "            title = 'N/A'\n",
    "\n",
    "        try:\n",
    "            description = box.select_one('[data-hook=\"review-body\"]').text.strip()\n",
    "        except Exception as e:\n",
    "            description = 'N/A'\n",
    "\n",
    "        # create Dictionary with al review data \n",
    "        data_dict = {\n",
    "            'Stars' : stars,\n",
    "            'Title' : title,\n",
    "            'Description' : description\n",
    "        }\n",
    "\n",
    "        # Add Dictionary in master empty List\n",
    "        data_dicts.append(data_dict)\n",
    "    \n",
    "    return data_dicts"
   ]
  },
  {
   "cell_type": "code",
   "execution_count": 54,
   "metadata": {},
   "outputs": [
    {
     "name": "stdout",
     "output_type": "stream",
     "text": [
      "1\n",
      "2\n"
     ]
    }
   ],
   "source": [
    "# Grab all HTML\n",
    "html_datas = reviewsHtml(reviews_url, len_page)"
   ]
  },
  {
   "cell_type": "code",
   "execution_count": 55,
   "metadata": {},
   "outputs": [],
   "source": [
    "# Empty List to Hold all reviews data\n",
    "reviews = []"
   ]
  },
  {
   "cell_type": "code",
   "execution_count": 56,
   "metadata": {},
   "outputs": [
    {
     "name": "stdout",
     "output_type": "stream",
     "text": [
      "[{'Stars': '5.0', 'Title': '5.0 out of 5 stars\\nvery beautiful helmet', 'Description': 'This helmet is very beautiful, the graphic of the temple and Shri Ram ji in it is of very good quality, its saffron color is the identity of Hindutva, this helmet of Steelbird is also super in quality, and is also quite light weight.'}, {'Stars': '5.0', 'Title': '5.0 out of 5 stars\\nJai Shree Ram Steelbird Helmet SBH 34', 'Description': 'Thank You Steel bird, Amazon for this amazing Helmet and also promotors, Jai Shree Ram Jai Shree Ram...Thanks a lot'}, {'Stars': '5.0', 'Title': '5.0 out of 5 stars\\nSuperb design', 'Description': 'Superb design I loved the design so brought it and the helmet is very strong and durable tooBut it is very tight in my head'}, {'Stars': '5.0', 'Title': '5.0 out of 5 stars\\nBeautiful ❤️', 'Description': 'Very good product'}, {'Stars': '5.0', 'Title': '5.0 out of 5 stars\\nQuality is absolutely amazing along with the print', 'Description': 'Durable, sturdy, and looks amazing.... Feels comfortable upon wearing, no problem of sweating or irritation, definitely consider buying... happy with the product'}]\n",
      "[{'Stars': '5.0', 'Title': '5.0 out of 5 stars\\nvery beautiful helmet', 'Description': 'This helmet is very beautiful, the graphic of the temple and Shri Ram ji in it is of very good quality, its saffron color is the identity of Hindutva, this helmet of Steelbird is also super in quality, and is also quite light weight.'}, {'Stars': '5.0', 'Title': '5.0 out of 5 stars\\nJai Shree Ram Steelbird Helmet SBH 34', 'Description': 'Thank You Steel bird, Amazon for this amazing Helmet and also promotors, Jai Shree Ram Jai Shree Ram...Thanks a lot'}, {'Stars': '5.0', 'Title': '5.0 out of 5 stars\\nSuperb design', 'Description': 'Superb design I loved the design so brought it and the helmet is very strong and durable tooBut it is very tight in my head'}, {'Stars': '5.0', 'Title': '5.0 out of 5 stars\\nBeautiful ❤️', 'Description': 'Very good product'}, {'Stars': '5.0', 'Title': '5.0 out of 5 stars\\nQuality is absolutely amazing along with the print', 'Description': 'Durable, sturdy, and looks amazing.... Feels comfortable upon wearing, no problem of sweating or irritation, definitely consider buying... happy with the product'}]\n"
     ]
    }
   ],
   "source": [
    "# Iterate all Html page \n",
    "for html_data in html_datas:\n",
    "    \n",
    "    # Grab review data\n",
    "    review = getReviews(html_data)\n",
    "    print(review)\n",
    "    # add review data in reviews empty list\n",
    "    reviews += review"
   ]
  },
  {
   "cell_type": "code",
   "execution_count": 57,
   "metadata": {},
   "outputs": [],
   "source": [
    "# Create a dataframe with reviews Data\n",
    "df_reviews = pd.DataFrame(reviews)"
   ]
  },
  {
   "cell_type": "code",
   "execution_count": 58,
   "metadata": {},
   "outputs": [
    {
     "data": {
      "text/html": [
       "<div>\n",
       "<style scoped>\n",
       "    .dataframe tbody tr th:only-of-type {\n",
       "        vertical-align: middle;\n",
       "    }\n",
       "\n",
       "    .dataframe tbody tr th {\n",
       "        vertical-align: top;\n",
       "    }\n",
       "\n",
       "    .dataframe thead th {\n",
       "        text-align: right;\n",
       "    }\n",
       "</style>\n",
       "<table border=\"1\" class=\"dataframe\">\n",
       "  <thead>\n",
       "    <tr style=\"text-align: right;\">\n",
       "      <th></th>\n",
       "      <th>Stars</th>\n",
       "      <th>Title</th>\n",
       "      <th>Description</th>\n",
       "    </tr>\n",
       "  </thead>\n",
       "  <tbody>\n",
       "    <tr>\n",
       "      <th>0</th>\n",
       "      <td>5.0</td>\n",
       "      <td>5.0 out of 5 stars\\nvery beautiful helmet</td>\n",
       "      <td>This helmet is very beautiful, the graphic of ...</td>\n",
       "    </tr>\n",
       "    <tr>\n",
       "      <th>1</th>\n",
       "      <td>5.0</td>\n",
       "      <td>5.0 out of 5 stars\\nJai Shree Ram Steelbird He...</td>\n",
       "      <td>Thank You Steel bird, Amazon for this amazing ...</td>\n",
       "    </tr>\n",
       "    <tr>\n",
       "      <th>2</th>\n",
       "      <td>5.0</td>\n",
       "      <td>5.0 out of 5 stars\\nSuperb design</td>\n",
       "      <td>Superb design I loved the design so brought it...</td>\n",
       "    </tr>\n",
       "    <tr>\n",
       "      <th>3</th>\n",
       "      <td>5.0</td>\n",
       "      <td>5.0 out of 5 stars\\nBeautiful ❤️</td>\n",
       "      <td>Very good product</td>\n",
       "    </tr>\n",
       "    <tr>\n",
       "      <th>4</th>\n",
       "      <td>5.0</td>\n",
       "      <td>5.0 out of 5 stars\\nQuality is absolutely amaz...</td>\n",
       "      <td>Durable, sturdy, and looks amazing.... Feels c...</td>\n",
       "    </tr>\n",
       "    <tr>\n",
       "      <th>5</th>\n",
       "      <td>5.0</td>\n",
       "      <td>5.0 out of 5 stars\\nvery beautiful helmet</td>\n",
       "      <td>This helmet is very beautiful, the graphic of ...</td>\n",
       "    </tr>\n",
       "    <tr>\n",
       "      <th>6</th>\n",
       "      <td>5.0</td>\n",
       "      <td>5.0 out of 5 stars\\nJai Shree Ram Steelbird He...</td>\n",
       "      <td>Thank You Steel bird, Amazon for this amazing ...</td>\n",
       "    </tr>\n",
       "    <tr>\n",
       "      <th>7</th>\n",
       "      <td>5.0</td>\n",
       "      <td>5.0 out of 5 stars\\nSuperb design</td>\n",
       "      <td>Superb design I loved the design so brought it...</td>\n",
       "    </tr>\n",
       "    <tr>\n",
       "      <th>8</th>\n",
       "      <td>5.0</td>\n",
       "      <td>5.0 out of 5 stars\\nBeautiful ❤️</td>\n",
       "      <td>Very good product</td>\n",
       "    </tr>\n",
       "    <tr>\n",
       "      <th>9</th>\n",
       "      <td>5.0</td>\n",
       "      <td>5.0 out of 5 stars\\nQuality is absolutely amaz...</td>\n",
       "      <td>Durable, sturdy, and looks amazing.... Feels c...</td>\n",
       "    </tr>\n",
       "  </tbody>\n",
       "</table>\n",
       "</div>"
      ],
      "text/plain": [
       "  Stars                                              Title  \\\n",
       "0   5.0          5.0 out of 5 stars\\nvery beautiful helmet   \n",
       "1   5.0  5.0 out of 5 stars\\nJai Shree Ram Steelbird He...   \n",
       "2   5.0                  5.0 out of 5 stars\\nSuperb design   \n",
       "3   5.0                   5.0 out of 5 stars\\nBeautiful ❤️   \n",
       "4   5.0  5.0 out of 5 stars\\nQuality is absolutely amaz...   \n",
       "5   5.0          5.0 out of 5 stars\\nvery beautiful helmet   \n",
       "6   5.0  5.0 out of 5 stars\\nJai Shree Ram Steelbird He...   \n",
       "7   5.0                  5.0 out of 5 stars\\nSuperb design   \n",
       "8   5.0                   5.0 out of 5 stars\\nBeautiful ❤️   \n",
       "9   5.0  5.0 out of 5 stars\\nQuality is absolutely amaz...   \n",
       "\n",
       "                                         Description  \n",
       "0  This helmet is very beautiful, the graphic of ...  \n",
       "1  Thank You Steel bird, Amazon for this amazing ...  \n",
       "2  Superb design I loved the design so brought it...  \n",
       "3                                  Very good product  \n",
       "4  Durable, sturdy, and looks amazing.... Feels c...  \n",
       "5  This helmet is very beautiful, the graphic of ...  \n",
       "6  Thank You Steel bird, Amazon for this amazing ...  \n",
       "7  Superb design I loved the design so brought it...  \n",
       "8                                  Very good product  \n",
       "9  Durable, sturdy, and looks amazing.... Feels c...  "
      ]
     },
     "execution_count": 58,
     "metadata": {},
     "output_type": "execute_result"
    }
   ],
   "source": [
    "df_reviews"
   ]
  },
  {
   "cell_type": "code",
   "execution_count": null,
   "metadata": {},
   "outputs": [],
   "source": []
  },
  {
   "cell_type": "code",
   "execution_count": null,
   "metadata": {},
   "outputs": [],
   "source": []
  }
 ],
 "metadata": {
  "kernelspec": {
   "display_name": "classer",
   "language": "python",
   "name": "python3"
  },
  "language_info": {
   "codemirror_mode": {
    "name": "ipython",
    "version": 3
   },
   "file_extension": ".py",
   "mimetype": "text/x-python",
   "name": "python",
   "nbconvert_exporter": "python",
   "pygments_lexer": "ipython3",
   "version": "3.9.18"
  }
 },
 "nbformat": 4,
 "nbformat_minor": 2
}
